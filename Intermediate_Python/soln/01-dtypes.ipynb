{
 "cells": [
  {
   "cell_type": "markdown",
   "metadata": {},
   "source": [
    "# Structuring Data Exercise: Numpy dtypes"
   ]
  },
  {
   "cell_type": "markdown",
   "metadata": {},
   "source": [
    "Before looking at Python Classes and Objects, we motivate the need for structured data using some simple image data. In this exercise you will be prompted to fill in sections using what you now know about structuring data with dtypes."
   ]
  },
  {
   "cell_type": "code",
   "execution_count": null,
   "metadata": {
    "collapsed": false
   },
   "outputs": [],
   "source": [
    "# Notebook Styling\n",
    "from IPython.core.display import HTML\n",
    "def css_styling():\n",
    "    sheet = '../css/custom.css'\n",
    "    styles = open(sheet, \"r\").read() \n",
    "    return HTML(styles)\n",
    "css_styling()"
   ]
  },
  {
   "cell_type": "code",
   "execution_count": null,
   "metadata": {
    "collapsed": false
   },
   "outputs": [],
   "source": [
    "import os\n",
    "import matplotlib.pyplot as plt\n",
    "import matplotlib.cm as cm\n",
    "import numpy as np\n",
    "%matplotlib inline\n",
    "\n",
    "# The image pixel size - constant for all images in this exercise\n",
    "Nx = Ny = 72"
   ]
  },
  {
   "cell_type": "markdown",
   "metadata": {},
   "source": [
    "Create a structured array of images in the next cell: for this we will need to define the `dtype` for the array. This should involve passing a list of length 3 as an argument to `np.dtype` defining the 3 data types required by elements (images) in the array:\n",
    "\n",
    "1. An $x$ component - The array of regularly spaced pixels x values from 1 to 0 (image colour values in pgm files start from top right pixel). Array of type float64, length $Nx$.\n",
    "\n",
    "2. A $y$ component - similar to $x$, but with length $Ny$\n",
    "\n",
    "3. A $z$ component - the array of grey levels for each pixel in the image. Array of float64, shape ($Nx, Ny$)"
   ]
  },
  {
   "cell_type": "code",
   "execution_count": null,
   "metadata": {
    "collapsed": false
   },
   "outputs": [],
   "source": [
    "# Create the dtype\n",
    "dt = np.dtype([('x', np.float64, (Nx)), ('y', np.float64, (Ny)), \n",
    "               ('z', np.float64, (Nx,Ny))])\n",
    "\n",
    "# create a new zero'ed array of length 4 using your dtype\n",
    "imgs = np.zeros(4, dtype=dt)"
   ]
  },
  {
   "cell_type": "markdown",
   "metadata": {},
   "source": [
    "Now create the normalised x and y values between 1 and 0 - these are the same for each image.\n",
    "\n",
    "*(Hint: Numpy linspace works backwards too ....)*"
   ]
  },
  {
   "cell_type": "code",
   "execution_count": null,
   "metadata": {
    "collapsed": false
   },
   "outputs": [],
   "source": [
    "xs = np.linspace(1., 0, Nx)\n",
    "ys = np.linspace(1., 0., Ny)"
   ]
  },
  {
   "cell_type": "markdown",
   "metadata": {},
   "source": [
    "Fill in the exercise in the next section to input $xs$ and $ys$ data. Also look at the format of the code: hopefully this is more readable and neater than creating separate unstructured arrays."
   ]
  },
  {
   "cell_type": "code",
   "execution_count": null,
   "metadata": {
    "collapsed": false
   },
   "outputs": [],
   "source": [
    "# The image file names\n",
    "names = ['img1.pgm', 'img2.pgm', 'img3.pgm', 'img4.pgm']\n",
    "files = [os.path.join('..', 'exercises', 'data', name) for name in names]\n",
    "\n",
    "print(files)\n",
    "\n",
    "for i, file in enumerate(files):\n",
    "    # This reads in the color data (top 4 rows are headings)\n",
    "    imgs['z'][i] = np.loadtxt(file, skiprows=4).reshape(Nx, Ny)\n",
    "    \n",
    "    # Input data in to the structured format\n",
    "    (imgs['x'][i], imgs['y'][i]) = (xs, ys)\n",
    "\n",
    "# A typical program would do something clever with the data here\n",
    "\n",
    "# Visualisation: Notice we can iterate over imgs directly\n",
    "for img in imgs:\n",
    "    fig = plt.figure()\n",
    "    ax = fig.add_subplot(111, aspect='equal')\n",
    "    ax.contourf(img['x'], img['y'], img['z'], cmap=cm.Greys_r)"
   ]
  },
  {
   "cell_type": "markdown",
   "metadata": {},
   "source": [
    "For your entertainment, we'll sum the pixel value of those images and plot the (normalised) result:"
   ]
  },
  {
   "cell_type": "code",
   "execution_count": null,
   "metadata": {
    "collapsed": false
   },
   "outputs": [],
   "source": [
    "combined = np.zeros(1, dtype=dt)\n",
    "combined['x'][0] = xs\n",
    "combined['y'][0] =  ys\n",
    "\n",
    "for img in imgs:\n",
    "    combined['z'][0] += img['z']\n",
    "\n",
    "fig = plt.figure()\n",
    "ax = fig.add_subplot(111, aspect='equal')\n",
    "ax.contourf(combined['x'][0], combined['y'][0], combined['z'][0], cmap=cm.Greys_r)"
   ]
  },
  {
   "cell_type": "code",
   "execution_count": null,
   "metadata": {
    "collapsed": true
   },
   "outputs": [],
   "source": []
  }
 ],
 "metadata": {
  "kernelspec": {
   "display_name": "Python 3",
   "language": "python",
   "name": "python3"
  },
  "language_info": {
   "codemirror_mode": {
    "name": "ipython",
    "version": 3
   },
   "file_extension": ".py",
   "mimetype": "text/x-python",
   "name": "python",
   "nbconvert_exporter": "python",
   "pygments_lexer": "ipython3",
   "version": "3.5.1"
  }
 },
 "nbformat": 4,
 "nbformat_minor": 0
}
