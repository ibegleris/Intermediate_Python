{
 "cells": [
  {
   "cell_type": "code",
   "execution_count": null,
   "metadata": {
    "collapsed": false
   },
   "outputs": [],
   "source": [
    "from IPython.core.display import HTML\n",
    "def css_styling():\n",
    "    sheet = '../css/custom.css'\n",
    "    styles = open(sheet, \"r\").read() \n",
    "    return HTML(styles)\n",
    "css_styling()"
   ]
  },
  {
   "cell_type": "markdown",
   "metadata": {},
   "source": [
    "# Python OOP 1: Basics and Initialisation"
   ]
  },
  {
   "cell_type": "markdown",
   "metadata": {},
   "source": [
    "The previous exercise has required you to use numpy dtypes as a means for structuring some simple image data. Classes could also be used for neater syntax and more readable code. The task in this exercise is to repeat the previous exercise using a class.\n"
   ]
  },
  {
   "cell_type": "code",
   "execution_count": null,
   "metadata": {
    "collapsed": false
   },
   "outputs": [],
   "source": [
    "import os\n",
    "import matplotlib.pyplot as plt\n",
    "import matplotlib.cm as cm\n",
    "import numpy as np\n",
    "import sys\n",
    "%matplotlib inline"
   ]
  },
  {
   "cell_type": "markdown",
   "metadata": {},
   "source": [
    "## Task breakdown\n",
    "\n",
    "Using the previous exercise as a reference point, create a `SquareImage` class which reads (portable greymap, '.pgm') image data from a file. The class should implement the following:\n",
    "\n",
    "1. Add Nx and Ny as *class methods*, and set both equal to 72\n",
    "\n",
    "2. The Initialiser method `__init__(self, ...)`, which takes a string `filename` as an argument and\n",
    "    - stores $Nx$ and $Ny$ as *instance attributes*, both equal to 72 (this isn't robust, but simplifies the exercise)\n",
    "    \n",
    "    - calculates and stores $x$ and $y$ as *instance attrbutes*. These are again the regularly spaced pixel $x$ and $y$ values from 1 to 0 (image colour values in pgm files start from top right pixel) - use linspace from 1 to 0 with $Nx$ and $Ny$ points respectively\n",
    "    \n",
    "    - Read and store image grey levels in `filename` as an *instance attribute*, $z$. The line for extracting this data from the files is the same as before,\n",
    "    >`np.loadtxt(filename, skiprows=4).reshape(self.Nx, self.Ny)`\n",
    "\n",
    "3. An `add_image` method which takes an `image` argument, and adds the z component of image \n",
    "    - don't forget to add `self` as the first argument! Instance methods require us to be specific\n",
    "\n",
    "4. A `plot` method which takes no extra arguments, and plots the current instance attributes $z$ as a contour vs $x$ and $y$ (also instance attributes). As this exercise is not testing your matplotlib, we provide the code for the function here:\n",
    "\n",
    "    > `fig = plt.figure()\n",
    "    > ax = fig.add_subplot(111, aspect='equal')\n",
    "    > ax.contourf(self.x, self.y, self.z, cmap=cm.Greys_r)\n",
    "    > plt.show()`\n"
   ]
  },
  {
   "cell_type": "code",
   "execution_count": null,
   "metadata": {
    "collapsed": false
   },
   "outputs": [],
   "source": [
    "# Implement the class here:\n",
    "\n",
    "class SquareImage(object):\n",
    "    \n",
    "    def __init__(self, filename=None):\n",
    "        # To simplify this exercise, set the size of the image to a constant\n",
    "        # (Each image was specifically written to have size 72 by 72)\n",
    "        self.Nx = self.Ny = 72\n",
    "        \n",
    "        self.x = np.linspace(1, 0, self.Nx)\n",
    "        self.y = np.linspace(1, 0, self.Ny)\n",
    "\n",
    "        if filename is None:\n",
    "            self.z = np.zeros([self.Nx, self.Ny])\n",
    "        else:\n",
    "            self.z = np.loadtxt(filename, skiprows=4).reshape(self.Nx, self.Ny)\n",
    "    \n",
    "    def add_image(self, image):\n",
    "        \"\"\"Add the z values of another 72 by 72 image image to this instance\"\"\"\n",
    "        # Could add a defensive check here \n",
    "        assert(np.shape(image.z) == (self.Nx, self.Ny)), 'Image sizes are not equal!'\n",
    "        \n",
    "        # Add the image z value to self:\n",
    "        self.z += image.z\n",
    "\n",
    "    def plot(self):\n",
    "        \"\"\"Plots the contour z against x and y coordinates\"\"\"\n",
    "        fig = plt.figure()\n",
    "        ax = fig.add_subplot(111, aspect='equal')\n",
    "        ax.contourf(self.x, self.y, self.z, cmap=cm.Greys_r)\n",
    "        plt.show()"
   ]
  },
  {
   "cell_type": "code",
   "execution_count": null,
   "metadata": {
    "collapsed": false
   },
   "outputs": [],
   "source": [
    "# The image file names\n",
    "names = ['img1.pgm', 'img2.pgm', 'img3.pgm', 'img4.pgm']\n",
    "files = [os.path.join('data', name) for name in names]"
   ]
  },
  {
   "cell_type": "code",
   "execution_count": null,
   "metadata": {
    "collapsed": false
   },
   "outputs": [],
   "source": [
    "# Instantiate the class and plot each picture. \n",
    "imgs = []\n",
    "for f in files:\n",
    "    image = SquareImage(f)\n",
    "    print(image)\n",
    "    imgs.append(image)           # objects are first class instances: add to a list\n",
    "    image.plot()\n",
    "    "
   ]
  },
  {
   "cell_type": "markdown",
   "metadata": {},
   "source": [
    "## Extension\n",
    "\n",
    "Now that we can read in image data from a file, extend your `SquareImages` class above so that if the filename is '`None`', we store the $z$ attribute as `np.zeros([Nx, Ny])`.\n",
    "\n",
    "* This will require an if statement, e.g.:\n",
    "    > `if filename is None`\n",
    "    >     store z as zeros\n",
    "    > `else`\n",
    "    >     read and store z data\n",
    "    \n",
    "* The default `filename` argument should be None, so that SquareImage() produces an 'empty' image."
   ]
  },
  {
   "cell_type": "code",
   "execution_count": null,
   "metadata": {
    "collapsed": false
   },
   "outputs": [],
   "source": [
    "# Create an 'empty' SquareImage \n",
    "combined = SquareImage()\n",
    "print(combined.z)"
   ]
  },
  {
   "cell_type": "markdown",
   "metadata": {},
   "source": [
    "Now use the `add_image` method of the empty image to add on the contents of all other image in the list of `imgs`"
   ]
  },
  {
   "cell_type": "code",
   "execution_count": null,
   "metadata": {
    "collapsed": false
   },
   "outputs": [],
   "source": [
    "# Loop over the list of images\n",
    "for image in imgs:\n",
    "    combined.add_image(image)\n",
    "\n",
    "# Plot\n",
    "combined.plot()"
   ]
  }
 ],
 "metadata": {
  "kernelspec": {
   "display_name": "Python 3",
   "language": "python",
   "name": "python3"
  },
  "language_info": {
   "codemirror_mode": {
    "name": "ipython",
    "version": 3
   },
   "file_extension": ".py",
   "mimetype": "text/x-python",
   "name": "python",
   "nbconvert_exporter": "python",
   "pygments_lexer": "ipython3",
   "version": "3.5.1"
  }
 },
 "nbformat": 4,
 "nbformat_minor": 0
}
