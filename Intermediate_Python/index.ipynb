{
 "cells": [
  {
   "cell_type": "code",
   "execution_count": 5,
   "metadata": {
    "collapsed": false,
    "slideshow": {
     "slide_type": "notes"
    }
   },
   "outputs": [
    {
     "data": {
      "text/html": [
       "/* \n",
       "* @Author: paul\n",
       "* @Date:   2016-02-25 17:35:32\n",
       "* @Last Modified by:   paul\n",
       "* @Last Modified time: 2016-02-25 17:45:54\n",
       "*/\n",
       "<link href='http://fonts.googleapis.com/css?family=Open+Sans:100,300,400,500,700,800,900,100italic,300italic,400italic,500italic,700italic,800italic,900italic' rel='stylesheet' type='text/css'>\n",
       "<link href='http://fonts.googleapis.com/css?family=Arvo:400,700,400italic' rel='stylesheet' type='text/css'>\n",
       "<link href='http://fonts.googleapis.com/css?family=PT+Mono' rel='stylesheet' type='text/css'>\n",
       "<link href='http://fonts.googleapis.com/css?family=Shadows+Into+Light' rel='stylesheet' type='text/css'>\n",
       "<link href='http://fonts.googleapis.com/css?family=Nixie+One' rel='stylesheet' type='text/css'>\n",
       "<style>\n",
       "\n",
       "@font-face {\n",
       "    font-family: \"Computer Modern\";\n",
       "    src: url('http://mirrors.ctan.org/fonts/cm-unicode/fonts/otf/cmunss.otf');\n",
       "}\n",
       "\n",
       "#notebook_panel { /* main background */\n",
       "    background: rgb(245,245,245);\n",
       "}\n",
       "\n",
       "div.cell { /* set cell width */\n",
       "    width: 1000px;\n",
       "}\n",
       "\n",
       "div #notebook { /* centre the content */\n",
       "    background: #fff; /* white background for content */\n",
       "    width: 1200px;\n",
       "    margin: auto;\n",
       "    padding-left: 0em;\n",
       "}\n",
       "\n",
       "#notebook li { /* More space between bullet points */\n",
       "margin-top:0.8em;\n",
       "}\n",
       "\n",
       "/* draw border around running cells */\n",
       "div.cell.border-box-sizing.code_cell.running { \n",
       "    border: 1px solid #111;\n",
       "}\n",
       "\n",
       "/* Put a solid color box around each cell and its output, visually linking them*/\n",
       "div.cell.code_cell {\n",
       "    background-color: rgb(256,256,256); \n",
       "    border-radius: 0px; \n",
       "    padding: 0.5em;\n",
       "    margin-left:1em;\n",
       "    margin-top: 1em;\n",
       "}\n",
       "\n",
       "div.text_cell_render{\n",
       "    font-family: 'Open Sans' sans-serif;\n",
       "    line-height: 140%;\n",
       "    font-size: 125%;\n",
       "    font-weight: 400;\n",
       "    width:900px;\n",
       "    margin-left:auto;\n",
       "    margin-right:auto;\n",
       "}\n",
       "\n",
       "\n",
       "/* Formatting for header cells */\n",
       ".text_cell_render h1 {\n",
       "    font-family: 'Arvo', serif;\n",
       "    font-style:regular;\n",
       "    font-weight: 400;    \n",
       "    font-size: 45pt;\n",
       "    line-height: 100%;\n",
       "    color: rgb(0,51,102);\n",
       "    margin-bottom: 0.5em;\n",
       "    margin-top: 0.5em;\n",
       "    display: block;\n",
       "}\t\n",
       ".text_cell_render h2 {\n",
       "    font-family: 'Arvo', serif;\n",
       "    font-weight: 400;\n",
       "    font-size: 30pt;\n",
       "    line-height: 100%;\n",
       "    color: rgb(0,51,102);\n",
       "    margin-bottom: 0.1em;\n",
       "    margin-top: 0.3em;\n",
       "    display: block;\n",
       "}\t\n",
       "\n",
       ".text_cell_render h3 {\n",
       "    font-family: 'Arvo', serif;\n",
       "    margin-top:16px;\n",
       "\tfont-size: 22pt;\n",
       "    font-weight: 600;\n",
       "    margin-bottom: 3px;\n",
       "    font-style: regular;\n",
       "    color: rgb(102,102,0);\n",
       "}\n",
       "\n",
       ".text_cell_render h4 {    /*Use this for captions*/\n",
       "    font-family: 'Arvo', serif;\n",
       "    font-size: 14pt;\n",
       "    text-align: center;\n",
       "    margin-top: 0em;\n",
       "    margin-bottom: 2em;\n",
       "    font-style: regular;\n",
       "}\n",
       "\n",
       ".text_cell_render h5 {  /*Use this for small titles*/\n",
       "    font-family: 'Arvo', sans-serif;\n",
       "    font-weight: 400;\n",
       "    font-size: 16pt;\n",
       "    color: rgb(163,0,0);\n",
       "    font-style: italic;\n",
       "    margin-bottom: .1em;\n",
       "    margin-top: 0.8em;\n",
       "    display: block;\n",
       "}\n",
       "\n",
       ".text_cell_render h6 { /*use this for copyright note*/\n",
       "    font-family: 'PT Mono', sans-serif;\n",
       "    font-weight: 300;\n",
       "    font-size: 9pt;\n",
       "    line-height: 100%;\n",
       "    color: grey;\n",
       "    margin-bottom: 1px;\n",
       "    margin-top: 1px;\n",
       "}\n",
       "\n",
       ".CodeMirror{\n",
       "        font-family: \"PT Mono\";\n",
       "        font-size: 90%;\n",
       "}\n",
       "\n",
       "</style>\n",
       "<script>\n",
       "    MathJax.Hub.Config({\n",
       "                        TeX: {\n",
       "                           extensions: [\"AMSmath.js\"],\n",
       "                           equationNumbers: { autoNumber: \"AMS\", useLabelIds: true}\n",
       "                           },\n",
       "                tex2jax: {\n",
       "                    inlineMath: [ ['$','$'], [\"\\\\(\",\"\\\\)\"] ],\n",
       "                    displayMath: [ ['$$','$$'], [\"\\\\[\",\"\\\\]\"] ]\n",
       "                },\n",
       "                displayAlign: 'center', // Change this to 'center' to center equations.\n",
       "                \"HTML-CSS\": {\n",
       "                    styles: {'.MathJax_Display': {\"margin\": 4}}\n",
       "                }\n",
       "        });\n",
       "</script>"
      ],
      "text/plain": [
       "<IPython.core.display.HTML object>"
      ]
     },
     "execution_count": 5,
     "metadata": {},
     "output_type": "execute_result"
    }
   ],
   "source": [
    "# Styling\n",
    "from IPython.core.display import HTML\n",
    "def css_styling():\n",
    "    sheet = './css/custom.css'\n",
    "    styles = open(sheet, \"r\").read() \n",
    "    return HTML(styles)\n",
    "css_styling()"
   ]
  },
  {
   "cell_type": "markdown",
   "metadata": {
    "slideshow": {
     "slide_type": "slide"
    }
   },
   "source": [
    "# NGCM Summer Academy 2016:\n",
    "\n",
    "## Intermediate Python\n",
    "\n",
    "Paul Chambers\n",
    "\n",
    "P.R.Chambers@soton.ac.uk\n",
    "\n",
    "<img style=\"float: left;\" src=\"images/ngcm.png\">\n",
    "<img style=\"float: right;\" src=\"images/epsrc_logo.jpg\">"
   ]
  },
  {
   "cell_type": "markdown",
   "metadata": {
    "slideshow": {
     "slide_type": "slide"
    }
   },
   "source": [
    "## Foreword\n",
    "\n",
    "* Bridge gap between (SWC) basics and IPython course\n",
    "* Focus on applied data analysis\n",
    "* Notebook live slideshow: [RISE](https://github.com/damianavila/RISE)"
   ]
  },
  {
   "cell_type": "markdown",
   "metadata": {
    "slideshow": {
     "slide_type": "subslide"
    }
   },
   "source": [
    "## Objectives\n",
    "\n",
    "- Basics revision        ~ 60 mins\n",
    "- Tuples, Dictionaries, Generators ~ 60 mins\n",
    "- Objects, Classes           ~ 120 mins"
   ]
  },
  {
   "cell_type": "markdown",
   "metadata": {
    "slideshow": {
     "slide_type": "subslide"
    }
   },
   "source": [
    "## Material Outline\n",
    "\n",
    "* Basics Revision\n",
    "    - Lists, loops, functions, Numpy, Matplotlib\n",
    "    \n",
    "* Tuples\n",
    "    - Immutability"
   ]
  },
  {
   "cell_type": "markdown",
   "metadata": {
    "slideshow": {
     "slide_type": "subslide"
    }
   },
   "source": [
    "## Material Outline (ctd)\n",
    "\n",
    "* Dictionaries\n",
    "    - Associative data, function argument unpacking\n",
    "\n",
    "* Generators\n",
    "    - yield keyword, generator comprehension"
   ]
  },
  {
   "cell_type": "markdown",
   "metadata": {
    "slideshow": {
     "slide_type": "subslide"
    }
   },
   "source": [
    "## Material Outline (ctd)\n",
    "\n",
    "* Object Oriented Programming\n",
    "    - `Classes`\n",
    "    - Initialization and `__init__`, `self\n",
    "    - Encapsulation\n",
    "    - Inheritance\n",
    "    - Magic operators"
   ]
  },
  {
   "cell_type": "markdown",
   "metadata": {
    "slideshow": {
     "slide_type": "subslide"
    }
   },
   "source": [
    "## Prerequisites\n",
    "\n",
    "* Python >= 3.4, Jupyter (Notebook)\n",
    "* Numpy, Matplotlib\n",
    "* Download material and exercises from github:\n",
    "https://github.com/p-chambers/Python_OOP_Workshop"
   ]
  },
  {
   "cell_type": "markdown",
   "metadata": {
    "slideshow": {
     "slide_type": "notes"
    }
   },
   "source": [
    "If you are following this course and do not know how to obtain the above requirements, see [Setup Instructions](requirements.ipynb)."
   ]
  },
  {
   "cell_type": "code",
   "execution_count": 6,
   "metadata": {
    "collapsed": true,
    "slideshow": {
     "slide_type": "fragment"
    }
   },
   "outputs": [],
   "source": [
    "# Run this cell before trying examples\n",
    "import numpy as np\n",
    "import matplotlib.pyplot as plt\n",
    "%matplotlib inline"
   ]
  },
  {
   "cell_type": "markdown",
   "metadata": {
    "slideshow": {
     "slide_type": "slide"
    }
   },
   "source": [
    "## Basics Refresher\n",
    "\n",
    "* Lists\n",
    "* `For` loops\n",
    "* Functions\n",
    "* Numpy\n",
    "* Matplotlib"
   ]
  },
  {
   "cell_type": "markdown",
   "metadata": {
    "slideshow": {
     "slide_type": "subslide"
    }
   },
   "source": [
    "### External Material\n",
    "* If you missed the basics, try these:\n",
    "    - [Hans Fangohr Python Book](http://www.southampton.ac.uk/~fangohr/training/python/pdfs/Python-for-Computational-Science-and-Engineering.pdf)\n",
    "    - [Software Saved Basics Course](http://softwaresaved.github.io/NGCMGSoton-2015-06-21/novice/python/index.html) "
   ]
  },
  {
   "cell_type": "markdown",
   "metadata": {
    "slideshow": {
     "slide_type": "subslide"
    }
   },
   "source": [
    "### Lists\n",
    "\n",
    "* *Mutable* Container\n",
    "* Handles mixed data types\n",
    "* Methods ascociated with a list are:\n",
    "    * append\n",
    "    * extend\n",
    "    * pop \n",
    "    * count\n",
    "    * reverse\n",
    "    * sort\n",
    "* Usefull built in range(n): creates a list from zero up to n - 1"
   ]
  },
  {
   "cell_type": "code",
   "execution_count": 7,
   "metadata": {
    "collapsed": false,
    "slideshow": {
     "slide_type": "subslide"
    }
   },
   "outputs": [
    {
     "ename": "SyntaxError",
     "evalue": "invalid syntax (<ipython-input-7-7df9d2ccd7ee>, line 2)",
     "output_type": "error",
     "traceback": [
      "\u001b[1;36m  File \u001b[1;32m\"<ipython-input-7-7df9d2ccd7ee>\"\u001b[1;36m, line \u001b[1;32m2\u001b[0m\n\u001b[1;33m    a.\u001b[0m\n\u001b[1;37m      ^\u001b[0m\n\u001b[1;31mSyntaxError\u001b[0m\u001b[1;31m:\u001b[0m invalid syntax\n"
     ]
    }
   ],
   "source": [
    "# Live coding\n",
    "a."
   ]
  },
  {
   "cell_type": "code",
   "execution_count": null,
   "metadata": {
    "collapsed": false,
    "slideshow": {
     "slide_type": "subslide"
    }
   },
   "outputs": [],
   "source": [
    "# List construction example\n",
    "a = []\n",
    "print('Empty :',a) \n",
    "a.append('Hello world')\n",
    "print('Appended :', a)\n",
    "a.extend(range(5))\n",
    "print('Extended :', a)\n",
    "a.pop(0)\n",
    "print('First element removed : ',a)\n",
    "a.remove(3)\n",
    "print('Removed 3 :',a)\n",
    "a.clear()\n",
    "print('Cleared: ',a)"
   ]
  },
  {
   "cell_type": "code",
   "execution_count": null,
   "metadata": {
    "collapsed": true,
    "slideshow": {
     "slide_type": "subslide"
    }
   },
   "outputs": [],
   "source": [
    "# A usefull "
   ]
  },
  {
   "cell_type": "markdown",
   "metadata": {
    "slideshow": {
     "slide_type": "subslide"
    }
   },
   "source": [
    "### For Loops   "
   ]
  },
  {
   "cell_type": "code",
   "execution_count": null,
   "metadata": {
    "collapsed": false,
    "slideshow": {
     "slide_type": "subslide"
    }
   },
   "outputs": [],
   "source": [
    "powers = [0, 1, 2, 3]\n",
    "for power in powers:\n",
    "    inv = 10 ** (power)\n",
    "    print(\"10 to the power of {} is {}\".format(power, inv))"
   ]
  },
  {
   "cell_type": "code",
   "execution_count": null,
   "metadata": {
    "collapsed": false,
    "slideshow": {
     "slide_type": "fragment"
    }
   },
   "outputs": [],
   "source": [
    "# Better to use range function here:\n",
    "for i in range(4):\n",
    "    print(\"10 to the power of {} is {}\".format(i, 10**i))"
   ]
  },
  {
   "cell_type": "markdown",
   "metadata": {
    "slideshow": {
     "slide_type": "subslide"
    }
   },
   "source": [
    "### Functions"
   ]
  },
  {
   "cell_type": "code",
   "execution_count": null,
   "metadata": {
    "collapsed": false,
    "slideshow": {
     "slide_type": "fragment"
    }
   },
   "outputs": [],
   "source": [
    "def square_root(x):\n",
    "    i = x**0.5\n",
    "    return i\n",
    "\n",
    "\n",
    "x = 10\n",
    "y = square_root(x)\n",
    "print(x)"
   ]
  },
  {
   "cell_type": "code",
   "execution_count": null,
   "metadata": {
    "collapsed": false,
    "slideshow": {
     "slide_type": "fragment"
    }
   },
   "outputs": [],
   "source": [
    "# Loops and list: Creating a list of 5 numbers with the next being the square root of the previous\n",
    "L = [256]\n",
    "for i in range(1,5):\n",
    "    L.append(square_root(L[i-1]))\n",
    "print(L)"
   ]
  },
  {
   "cell_type": "markdown",
   "metadata": {
    "slideshow": {
     "slide_type": "subslide"
    }
   },
   "source": [
    "### Numpy\n",
    "* Arrays and array operations\n",
    "* Mathematical evaluations - fast on `np.array`\n",
    "* Linear algebra\n",
    "* "
   ]
  },
  {
   "cell_type": "code",
   "execution_count": null,
   "metadata": {
    "collapsed": true,
    "slideshow": {
     "slide_type": "subslide"
    }
   },
   "outputs": [],
   "source": [
    "import numpy as np\n",
    "\n",
    "# basic usage: arange, linspace, array ops"
   ]
  },
  {
   "cell_type": "code",
   "execution_count": null,
   "metadata": {
    "collapsed": false,
    "slideshow": {
     "slide_type": "fragment"
    }
   },
   "outputs": [],
   "source": []
  },
  {
   "cell_type": "code",
   "execution_count": null,
   "metadata": {
    "collapsed": false,
    "slideshow": {
     "slide_type": "subslide"
    }
   },
   "outputs": [],
   "source": [
    "# Performance: timeit list looping vs array looping vs array operations "
   ]
  },
  {
   "cell_type": "markdown",
   "metadata": {
    "slideshow": {
     "slide_type": "subslide"
    }
   },
   "source": [
    "### Matplotlib\n",
    "* Popular plotting library\n",
    "* "
   ]
  },
  {
   "cell_type": "code",
   "execution_count": null,
   "metadata": {
    "collapsed": true,
    "slideshow": {
     "slide_type": "fragment"
    }
   },
   "outputs": [],
   "source": [
    "import matplotlib.pyplot as plt"
   ]
  },
  {
   "cell_type": "code",
   "execution_count": null,
   "metadata": {
    "collapsed": true,
    "slideshow": {
     "slide_type": "subslide"
    }
   },
   "outputs": [],
   "source": [
    "# Live coding Bay....\n"
   ]
  },
  {
   "cell_type": "markdown",
   "metadata": {
    "slideshow": {
     "slide_type": "subslide"
    }
   },
   "source": [
    "## Exercise: Basics Refresher\n",
    "\n",
    "[Python Basics Refresher](exercises/00-Basics_refresher.ipynb)"
   ]
  },
  {
   "cell_type": "markdown",
   "metadata": {
    "slideshow": {
     "slide_type": "slide"
    }
   },
   "source": [
    "## Tuples\n",
    "\n",
    "* An *Immutable* List\n",
    "* Faster than a List (fixed memory)\n",
    "* Useful for **structured** data\n",
    "* No *append* method - bad for sequential data"
   ]
  },
  {
   "cell_type": "markdown",
   "metadata": {
    "slideshow": {
     "slide_type": "subslide"
    }
   },
   "source": [
    "#### Example: Tuple Syntax"
   ]
  },
  {
   "cell_type": "code",
   "execution_count": null,
   "metadata": {
    "collapsed": false,
    "scrolled": true,
    "slideshow": {
     "slide_type": "fragment"
    }
   },
   "outputs": [],
   "source": [
    "# Create a 'Name, Age' Tuple using bracket notation\n",
    "my_tuple = ('Dave', 42)\n",
    "\n",
    "print(type(my_tuple))\n",
    "print(my_tuple)"
   ]
  },
  {
   "cell_type": "code",
   "execution_count": null,
   "metadata": {
    "collapsed": false,
    "scrolled": true,
    "slideshow": {
     "slide_type": "fragment"
    }
   },
   "outputs": [],
   "source": [
    "# Create Tuple using bracket notation\n",
    "my_tuple2 = 'Bob', 24\n",
    "\n",
    "print(type(my_tuple2))\n",
    "print(my_tuple2)"
   ]
  },
  {
   "cell_type": "markdown",
   "metadata": {
    "slideshow": {
     "slide_type": "subslide"
    }
   },
   "source": [
    "#### Example: Usage"
   ]
  },
  {
   "cell_type": "code",
   "execution_count": null,
   "metadata": {
    "collapsed": false,
    "scrolled": true,
    "slideshow": {
     "slide_type": "fragment"
    }
   },
   "outputs": [],
   "source": [
    "# Tuple indexing\n",
    "print(my_tuple[0])\n",
    "print(my_tuple[1])"
   ]
  },
  {
   "cell_type": "code",
   "execution_count": null,
   "metadata": {
    "collapsed": false,
    "scrolled": true,
    "slideshow": {
     "slide_type": "fragment"
    }
   },
   "outputs": [],
   "source": [
    "# Could make a list of tuples:\n",
    "tups = [('Dave', 42), ('Bob', '24')]\n",
    "# ... and then iterate over it\n",
    "for tup in tups:\n",
    "    print(\"{} is {} years old\".format(tup[0], tup[1]))"
   ]
  },
  {
   "cell_type": "markdown",
   "metadata": {
    "slideshow": {
     "slide_type": "subslide"
    }
   },
   "source": [
    "#### Example: Tuple Unpacking"
   ]
  },
  {
   "cell_type": "code",
   "execution_count": null,
   "metadata": {
    "collapsed": false,
    "scrolled": true,
    "slideshow": {
     "slide_type": "fragment"
    }
   },
   "outputs": [],
   "source": [
    "# Store multiple variables using tuples:\n",
    "my_tuple = 'Dave', 42\n",
    "a, b = my_tuple\n",
    "\n",
    "print(a, b)"
   ]
  },
  {
   "cell_type": "code",
   "execution_count": null,
   "metadata": {
    "collapsed": false,
    "scrolled": true,
    "slideshow": {
     "slide_type": "fragment"
    }
   },
   "outputs": [],
   "source": [
    "# Swap Variables using tuples:\n",
    "b, a = a, b\n",
    "\n",
    "print(a, b)"
   ]
  },
  {
   "cell_type": "markdown",
   "metadata": {
    "slideshow": {
     "slide_type": "subslide"
    }
   },
   "source": [
    "#### Example: When NOT to use a Tuple (1)"
   ]
  },
  {
   "cell_type": "code",
   "execution_count": null,
   "metadata": {
    "collapsed": false,
    "scrolled": true,
    "slideshow": {
     "slide_type": "fragment"
    }
   },
   "outputs": [],
   "source": [
    "# extending or overwriting contents\n",
    "print(my_tuple)\n",
    "\n",
    "# my_tuple[0] = 'Steve'     # Will give an error"
   ]
  },
  {
   "cell_type": "markdown",
   "metadata": {
    "slideshow": {
     "slide_type": "subslide"
    }
   },
   "source": [
    "#### Example: When NOT to use a Tuple (2)"
   ]
  },
  {
   "cell_type": "code",
   "execution_count": null,
   "metadata": {
    "collapsed": false,
    "slideshow": {
     "slide_type": "fragment"
    }
   },
   "outputs": [],
   "source": [
    "# Sequences: Stick with a list\n",
    "seq = []\n",
    "for i in range(10):\n",
    "    seq.append(i**2)\n",
    "\n",
    "print(seq)"
   ]
  },
  {
   "cell_type": "code",
   "execution_count": null,
   "metadata": {
    "collapsed": false,
    "scrolled": true,
    "slideshow": {
     "slide_type": "fragment"
    }
   },
   "outputs": [],
   "source": [
    "# Or a numpy array:\n",
    "print(np.arange(10)**2)"
   ]
  },
  {
   "cell_type": "code",
   "execution_count": null,
   "metadata": {
    "collapsed": true,
    "slideshow": {
     "slide_type": "subslide"
    }
   },
   "outputs": [],
   "source": [
    "# Live coding Bay....\n"
   ]
  },
  {
   "cell_type": "markdown",
   "metadata": {
    "slideshow": {
     "slide_type": "slide"
    }
   },
   "source": [
    "## Dictionaries\n",
    "\n",
    "* Unordered set of `key` : `value` pairs\n",
    "* Use curly braces - {} or `dict` keyword"
   ]
  },
  {
   "cell_type": "markdown",
   "metadata": {
    "slideshow": {
     "slide_type": "subslide"
    }
   },
   "source": [
    "#### Example: Fruit Prices Lookup Table - Construction"
   ]
  },
  {
   "cell_type": "code",
   "execution_count": null,
   "metadata": {
    "collapsed": false,
    "scrolled": true,
    "slideshow": {
     "slide_type": "fragment"
    }
   },
   "outputs": [],
   "source": [
    "# Using the dict function:\n",
    "fruit = [('apples', 2), ('bananas', 5), ('pears', 10)]\n",
    "price_table = dict(fruit)\n",
    "print(price_table)"
   ]
  },
  {
   "cell_type": "code",
   "execution_count": null,
   "metadata": {
    "collapsed": false,
    "scrolled": true,
    "slideshow": {
     "slide_type": "fragment"
    }
   },
   "outputs": [],
   "source": [
    "# Short hand (Arguably neater)\n",
    "price_table = {'apples': 2, 'bananas': 5, 'pears': 10}\n",
    "print(price_table)"
   ]
  },
  {
   "cell_type": "markdown",
   "metadata": {
    "slideshow": {
     "slide_type": "subslide"
    }
   },
   "source": [
    "#### Example: Accessing values from keys"
   ]
  },
  {
   "cell_type": "code",
   "execution_count": null,
   "metadata": {
    "collapsed": false,
    "slideshow": {
     "slide_type": "fragment"
    }
   },
   "outputs": [],
   "source": [
    "price_table = {'apples': 2, 'bananas': 5, 'pears': 10}\n",
    "\n",
    "akey = 'apples'\n",
    "print(\"The price of {} is {}p\".format(akey, price_table[akey]))"
   ]
  },
  {
   "cell_type": "markdown",
   "metadata": {
    "slideshow": {
     "slide_type": "subslide"
    }
   },
   "source": [
    "#### Example: Iterating over a dictionary"
   ]
  },
  {
   "cell_type": "code",
   "execution_count": null,
   "metadata": {
    "collapsed": false,
    "slideshow": {
     "slide_type": "fragment"
    }
   },
   "outputs": [],
   "source": [
    "# Iterating over the dictionary will iterate over its keys\n",
    "d = {'apples': 2, 'bananas': 5, 'pears': 10}\n",
    "\n",
    "for key in d:\n",
    "    print(\"{} cost {}p\".format(key, d[key]))"
   ]
  },
  {
   "cell_type": "code",
   "execution_count": null,
   "metadata": {
    "collapsed": false,
    "slideshow": {
     "slide_type": "fragment"
    }
   },
   "outputs": [],
   "source": [
    "# Or use the items method:\n",
    "for key, val in d.items():\n",
    "    print(\"{} cost {}p\".format(key, val))"
   ]
  },
  {
   "cell_type": "markdown",
   "metadata": {
    "slideshow": {
     "slide_type": "subslide"
    }
   },
   "source": [
    "#### Example: When NOT to use a Dictionary"
   ]
  },
  {
   "cell_type": "code",
   "execution_count": null,
   "metadata": {
    "collapsed": false,
    "slideshow": {
     "slide_type": "fragment"
    }
   },
   "outputs": [],
   "source": [
    "# Hoping for ordered data:\n",
    "alpha_num = {'a': 0, 'b': 1, 'c': 2}\n",
    "\n",
    "for i, key in enumerate(alpha_num.keys()):\n",
    "    print(\"{} has a value of {}\".format(key, i))   # This is wrong"
   ]
  },
  {
   "cell_type": "markdown",
   "metadata": {
    "slideshow": {
     "slide_type": "subslide"
    }
   },
   "source": [
    "#### Example: Dictionary unpacking using '**'"
   ]
  },
  {
   "cell_type": "code",
   "execution_count": null,
   "metadata": {
    "collapsed": false,
    "scrolled": true,
    "slideshow": {
     "slide_type": "fragment"
    }
   },
   "outputs": [],
   "source": [
    "d = {'a': 1, 'b': 2}\n",
    "d.pop('a')"
   ]
  },
  {
   "cell_type": "code",
   "execution_count": null,
   "metadata": {
    "collapsed": true,
    "slideshow": {
     "slide_type": "subslide"
    }
   },
   "outputs": [],
   "source": [
    "# Live coding Bay....\n"
   ]
  },
  {
   "cell_type": "markdown",
   "metadata": {
    "slideshow": {
     "slide_type": "subslide"
    }
   },
   "source": [
    "## Exercise: Tuples and Dictionaries\n",
    "\n",
    "[Tuples and Dictionaries Exercise](exercises/01-Tuples_Dictionaries.ipynb)"
   ]
  },
  {
   "cell_type": "markdown",
   "metadata": {
    "slideshow": {
     "slide_type": "slide"
    }
   },
   "source": [
    "## Generators\n",
    "\n",
    "* "
   ]
  },
  {
   "cell_type": "markdown",
   "metadata": {
    "slideshow": {
     "slide_type": "subslide"
    }
   },
   "source": [
    "#### Example"
   ]
  },
  {
   "cell_type": "code",
   "execution_count": null,
   "metadata": {
    "collapsed": true,
    "slideshow": {
     "slide_type": "subslide"
    }
   },
   "outputs": [],
   "source": [
    "# Live coding Bay"
   ]
  },
  {
   "cell_type": "markdown",
   "metadata": {
    "slideshow": {
     "slide_type": "subslide"
    }
   },
   "source": [
    "## Exercise: Generators\n",
    "\n",
    "[Generators](exercises/02-Generators.ipynb)"
   ]
  },
  {
   "cell_type": "markdown",
   "metadata": {
    "slideshow": {
     "slide_type": "slide"
    }
   },
   "source": [
    "# Intro to Python OOP\n",
    "\n",
    "#### (For The Classy Programmer)\n",
    "\n",
    "><div align=\"center\" style=\"width:600px; text-align:centered; font-style:italic; font-size:18pt\">\n",
    "\"Object-oriented programming (OOP) refers to a type of computer programming in which programmers define not only the data type of a data structure, but also the types of operations (functions) that can be applied to the data structure.\"\n",
    "></div>\n",
    "\n",
    "Source: [Webopedia](http://www.webopedia.com/TERM/O/object_oriented_programming_OOP.html)"
   ]
  },
  {
   "cell_type": "markdown",
   "metadata": {
    "slideshow": {
     "slide_type": "subslide"
    }
   },
   "source": [
    "## Why OOP?\n",
    "\n",
    "* Naturally structured data\n",
    "* Functions used in context\n",
    "* Reduce duplicate code\n",
    "* Maintainability in large codes/software\n",
    "* [Many other reasons](http://inventwithpython.com/blog/2014/12/02/why-is-object-oriented-programming-useful-with-an-role-playing-game-example/)"
   ]
  },
  {
   "cell_type": "markdown",
   "metadata": {
    "slideshow": {
     "slide_type": "subslide"
    }
   },
   "source": [
    "### OOP in Scientific Computing\n",
    "* Java, `C++` and Python designed for OOP\n",
    "* **Everything** in Python is an object\n",
    "* Scientific libraries, visualisation tools etc.\n",
    "* Pseudo Object Orientation in `C` and `Fortran`"
   ]
  },
  {
   "cell_type": "markdown",
   "metadata": {
    "slideshow": {
     "slide_type": "subslide"
    }
   },
   "source": [
    "### What will I learn about OOP here?\n",
    "* Language in OOP is very different\n",
    "    - Learn language used in eg. C++, Java\n",
    "* Ability to **read** code is essential\n",
    "* Write/migrate code for community library\n",
    "    - Better world! Work recognition etc..."
   ]
  },
  {
   "cell_type": "markdown",
   "metadata": {
    "slideshow": {
     "slide_type": "subslide"
    }
   },
   "source": [
    "###  OOP: Four Fundamental Concepts\n",
    "​\n",
    "* *Inheritance*\n",
    "    - Reuse code by deriving from existing classes\n",
    "    \n",
    "* *Encapsulation*\n",
    "    - Data hiding"
   ]
  },
  {
   "cell_type": "markdown",
   "metadata": {
    "slideshow": {
     "slide_type": "subslide"
    }
   },
   "source": [
    "###  OOP: Four Fundamental Concepts (2)\n",
    "\n",
    "* *Abstraction* \n",
    "    - Simplified representation of complexity\n",
    "    \n",
    "* *Polymorphism*\n",
    "    - API performs differently based on data type"
   ]
  },
  {
   "cell_type": "markdown",
   "metadata": {
    "slideshow": {
     "slide_type": "notes"
    }
   },
   "source": [
    "**Note:** Encapsulation is sometimes also used in OOP to describe the grouping of data with methods. It is however more common for texts to use it to describe the hiding of data as will be done here.\n",
    "\n",
    "Useful explanations of these concepts for Python can also be found [here](http://zetcode.com/lang/python/oop/)"
   ]
  },
  {
   "cell_type": "markdown",
   "metadata": {
    "slideshow": {
     "slide_type": "slide"
    }
   },
   "source": [
    "## Structured data: Numpy dtypes\n",
    "* Not a class, but motivational example\n",
    "* Structured associative data\n",
    "* Multiple data accessible from a single data type\n",
    "* Identifiers to indicate data type"
   ]
  },
  {
   "cell_type": "markdown",
   "metadata": {
    "slideshow": {
     "slide_type": "subslide"
    }
   },
   "source": [
    "#### Example: Data about people"
   ]
  },
  {
   "cell_type": "code",
   "execution_count": null,
   "metadata": {
    "collapsed": false,
    "scrolled": true,
    "slideshow": {
     "slide_type": "fragment"
    }
   },
   "outputs": [],
   "source": [
    "with open('data/structured_data.txt', 'w') as f:\n",
    "    f.write('#Name    Height    Weight\\n')\n",
    "    f.write('John     180    80.5\\n')\n",
    "    f.write('Paul     172    75.1\\n')\n",
    "    f.write('George   185    78.6\\n')\n",
    "    f.write('Ringo    170    76.5\\n')"
   ]
  },
  {
   "cell_type": "code",
   "execution_count": null,
   "metadata": {
    "collapsed": false,
    "scrolled": true,
    "slideshow": {
     "slide_type": "fragment"
    }
   },
   "outputs": [],
   "source": [
    "# Notice that the argument is a list of tuples\n",
    "dt = np.dtype([('Name', np.str_, 16), ('Height', np.int32),\n",
    "                ('Weight', np.float64)])\n",
    "data = np.loadtxt('data/structured_data.txt', dtype=dt)\n",
    "\n",
    "print(data)"
   ]
  },
  {
   "cell_type": "code",
   "execution_count": null,
   "metadata": {
    "collapsed": false,
    "scrolled": true,
    "slideshow": {
     "slide_type": "fragment"
    }
   },
   "outputs": [],
   "source": [
    "print(data['Name'])\n",
    "print(\"{} has weight {}\".format(data[0]['Name'], data[0]['Weight']))"
   ]
  },
  {
   "cell_type": "code",
   "execution_count": null,
   "metadata": {
    "collapsed": true,
    "slideshow": {
     "slide_type": "subslide"
    }
   },
   "outputs": [],
   "source": [
    "# Live coding Bay....\n"
   ]
  },
  {
   "cell_type": "markdown",
   "metadata": {
    "slideshow": {
     "slide_type": "subslide"
    }
   },
   "source": [
    "## Exercise: Numpy `dtypes`\n",
    "\n",
    "[Exercise: Load image data with dtype structured array](exercises/03-dtypes.ipynb)"
   ]
  },
  {
   "cell_type": "markdown",
   "metadata": {
    "slideshow": {
     "slide_type": "fragment"
    }
   },
   "source": [
    "* Data is structured, but not elegant\n",
    "* no methods etc"
   ]
  },
  {
   "cell_type": "markdown",
   "metadata": {
    "slideshow": {
     "slide_type": "slide"
    }
   },
   "source": [
    "## Classes: Basics\n",
    "* Attributes (data)\n",
    "* Methods    (Functions operating on the attributes)\n",
    "* 'First class citizens': Same rights as core types\n",
    "    - pass to functions, store as variables etc."
   ]
  },
  {
   "cell_type": "markdown",
   "metadata": {
    "slideshow": {
     "slide_type": "subslide"
    }
   },
   "source": [
    "#### Example: Numpy arrays showing how it's done"
   ]
  },
  {
   "cell_type": "code",
   "execution_count": null,
   "metadata": {
    "collapsed": false,
    "slideshow": {
     "slide_type": "fragment"
    }
   },
   "outputs": [],
   "source": [
    "# Numpy arrays are classes\n",
    "import numpy as np\n",
    "a = np.array([0, 1, 6, 8, 12])\n",
    "print(a.__class__)\n",
    "print(type(a))"
   ]
  },
  {
   "cell_type": "code",
   "execution_count": null,
   "metadata": {
    "collapsed": false,
    "slideshow": {
     "slide_type": "fragment"
    }
   },
   "outputs": [],
   "source": [
    "# We want to operate on the array: try numpy cumulative sum function\n",
    "print(np.cumsum(a))"
   ]
  },
  {
   "cell_type": "code",
   "execution_count": null,
   "metadata": {
    "collapsed": false,
    "slideshow": {
     "slide_type": "fragment"
    }
   },
   "outputs": [],
   "source": [
    "# np.cumsum('helloworld')  # Should we expect this to work?"
   ]
  },
  {
   "cell_type": "markdown",
   "metadata": {
    "slideshow": {
     "slide_type": "subslide"
    }
   },
   "source": [
    "#### Example: Numpy arrays showing how it's done (ctd.)\n",
    "\n",
    "* We only know what a cumulative sum means for a narrow scope of data types\n",
    "\n",
    "* Group them together with an object!"
   ]
  },
  {
   "cell_type": "code",
   "execution_count": null,
   "metadata": {
    "collapsed": false,
    "slideshow": {
     "slide_type": "fragment"
    }
   },
   "outputs": [],
   "source": [
    "# cumsum is a method belonging to a\n",
    "a.cumsum()"
   ]
  },
  {
   "cell_type": "markdown",
   "metadata": {
    "slideshow": {
     "slide_type": "subslide"
    }
   },
   "source": [
    "#### Example: Simple class\n",
    "* For now, assume all classes defined by:  `class ClassName(object)`"
   ]
  },
  {
   "cell_type": "code",
   "execution_count": null,
   "metadata": {
    "collapsed": false,
    "slideshow": {
     "slide_type": "fragment"
    }
   },
   "outputs": [],
   "source": [
    "class Greeter(object):\n",
    "    def hello(self):         # Method (more on 'self' later)\n",
    "        print(\"Hello World\")\n",
    "\n",
    "agreeter = Greeter()         # 'Instantiate' the class\n",
    "print(agreeter)\n",
    "# agreeter.                  # Tab complete?"
   ]
  },
  {
   "cell_type": "markdown",
   "metadata": {
    "slideshow": {
     "slide_type": "notes"
    }
   },
   "source": [
    "There's a few things here which I haven't introduced, but all will become clear in the remainder of this workshop."
   ]
  },
  {
   "cell_type": "code",
   "execution_count": null,
   "metadata": {
    "collapsed": false,
    "slideshow": {
     "slide_type": "fragment"
    }
   },
   "outputs": [],
   "source": [
    "# Note that we don't pass an argument to hello!\n",
    "agreeter.hello()"
   ]
  },
  {
   "cell_type": "markdown",
   "metadata": {
    "slideshow": {
     "slide_type": "slide"
    }
   },
   "source": [
    "## Classes: Initialisation and `self`\n",
    "\n",
    "* ```__init__``` class method\n",
    "* Called on creation of an instance\n",
    "* Convention: `self` = instance\n",
    "* **Implicit passing** of self, **explicit receive**\n"
   ]
  },
  {
   "cell_type": "markdown",
   "metadata": {
    "slideshow": {
     "slide_type": "notes"
    }
   },
   "source": [
    "**Note:** Passing of `self` is done implicitly in other languages e.g. C++ and Java, and proponents of those languages may argue that this is better. \"*Explicit is better than implicit*\" is [simply the python way](https://www.python.org/dev/peps/pep-0020/)."
   ]
  },
  {
   "cell_type": "markdown",
   "metadata": {
    "slideshow": {
     "slide_type": "subslide"
    }
   },
   "source": [
    "### What is an \"instance\"?\n",
    "\n",
    "* `Class` is like a type\n",
    "* Instance is a specific realisation of that type\n",
    "* eg. \"Hello World\" is an instance of string\n",
    "* Instances attributes are not shared\n"
   ]
  },
  {
   "cell_type": "markdown",
   "metadata": {
    "slideshow": {
     "slide_type": "subslide"
    }
   },
   "source": [
    "### Classes: Initialisation vs Construction\n",
    "* Initialisation changes the instance when it is made\n",
    "* ... `__init__` is not *technically* Construction (see: C++)\n",
    "* `__new__` '*constructs*' the instance before `__init__`\n",
    "* `__init__` then initialises the content"
   ]
  },
  {
   "cell_type": "markdown",
   "metadata": {
    "slideshow": {
     "slide_type": "notes"
    }
   },
   "source": [
    "**More info:** The Constructor *creates* the instance, and the Initialiser *Initialises* its contents. Most languages e.g. C++ refer to these interchangably and perform these steps together, however the new style classes in Python splits the process.\n",
    "\n",
    "The difference is quite fine, and for most purposes we do not need to redefine the behaviour of `__new__`. This is discussed in several Stack Overflow threads, e.g.\n",
    "\n",
    "* [Python (and Python C API): `__new__` versus `__init__`](http://stackoverflow.com/questions/4859129/python-and-python-c-api-new-versus-init)\n",
    "\n",
    "* [Python's use of `__new__` and `__init__`?](http://stackoverflow.com/questions/674304/pythons-use-of-new-and-init)"
   ]
  },
  {
   "cell_type": "markdown",
   "metadata": {
    "slideshow": {
     "slide_type": "subslide"
    }
   },
   "source": [
    "#### Example: Class Initialisation"
   ]
  },
  {
   "cell_type": "code",
   "execution_count": null,
   "metadata": {
    "collapsed": false,
    "slideshow": {
     "slide_type": "fragment"
    }
   },
   "outputs": [],
   "source": [
    "class A(object):\n",
    "    def __init__(self):\n",
    "        print(\"Hello\")\n",
    "\n",
    "a_instance = A()\n",
    "print(type(a_instance))"
   ]
  },
  {
   "cell_type": "markdown",
   "metadata": {
    "slideshow": {
     "slide_type": "subslide"
    }
   },
   "source": [
    "###  Instance attributes and Class attributes\n",
    "* Instance attributes definition: `self.attribute = value`\n",
    "* Class attributes defined outside functions (*class scope*)\n",
    "* Class attributes are shared by all instances\n",
    "* Be careful with class attributes"
   ]
  },
  {
   "cell_type": "markdown",
   "metadata": {
    "slideshow": {
     "slide_type": "subslide"
    }
   },
   "source": [
    "#### Example: Defining Instance attributes/methods"
   ]
  },
  {
   "cell_type": "code",
   "execution_count": null,
   "metadata": {
    "collapsed": false,
    "slideshow": {
     "slide_type": "fragment"
    }
   },
   "outputs": [],
   "source": [
    "class Container(object):\n",
    "    \"\"\"Simple container which stores an array as an instance attribute\n",
    "    and an instance method\"\"\"\n",
    "    def __init__(self, N):\n",
    "        self.data = np.linspace(0, 1, N)\n",
    "    \n",
    "    def plot(self):\n",
    "        fig = plt.figure()\n",
    "        ax = fig.add_subplot(111)\n",
    "        ax.plot(self.data, 'bx')\n",
    "\n",
    "mydata = Container(11)      # 11 ia passed as 'N' to __init__\n",
    "print(mydata.__dict__)      # __dict__ is where the attr: value\n",
    "                            #  pairs are stored!\n",
    "mydata.plot()"
   ]
  },
  {
   "cell_type": "markdown",
   "metadata": {
    "slideshow": {
     "slide_type": "subslide"
    }
   },
   "source": [
    "#### Example: Class attributes vs instance attributes"
   ]
  },
  {
   "cell_type": "code",
   "execution_count": null,
   "metadata": {
    "collapsed": false,
    "slideshow": {
     "slide_type": "fragment"
    }
   },
   "outputs": [],
   "source": [
    "class Container(object):\n",
    "    data = np.linspace(0, 1, 5)    # class attribute\n",
    "    def __init__(self):\n",
    "        pass\n",
    "\n",
    "a, b = Container(), Container()\n",
    "print(a.data)\n",
    "print(b.data)"
   ]
  },
  {
   "cell_type": "code",
   "execution_count": null,
   "metadata": {
    "collapsed": false,
    "slideshow": {
     "slide_type": "fragment"
    }
   },
   "outputs": [],
   "source": [
    "a.data = 0                     # Creates INSTANCE attribute\n",
    "Container.data = 100           # Overwrites CLASS attribute\n",
    "print(a.data)\n",
    "print(b.data)"
   ]
  },
  {
   "cell_type": "markdown",
   "metadata": {
    "slideshow": {
     "slide_type": "subslide"
    }
   },
   "source": [
    "### Class vs Instance attributes: priority\n",
    "\n",
    "![Class vs instance attribute priority diagram](images/class_vs_instance_priority.png)\n",
    "\n",
    "* Source: [toptotal.com](https://www.toptal.com/python/python-class-attributes-an-overly-thorough-guide)"
   ]
  },
  {
   "cell_type": "markdown",
   "metadata": {
    "slideshow": {
     "slide_type": "notes"
    }
   },
   "source": [
    "**Note**: There's a couple of things going on in this example which are worth elaborating on. By specifying `ClassName.attribute`, in this case `Container.data = 100` we've overwritten the value of `data` that EVERY instance of the `Container` class will access. Hence printing `b.data` gives the expected result.\n",
    "\n",
    "By setting `a.data` at the same time, we have set an *instance* attribute, which is given priority and called first even though we overwrote the class attribute after assigning this.\n",
    "\n",
    "This could create a hard to track bug. To avoid it:\n",
    "\n",
    "* Stick to instance variables unless you specifically need to share data e.g. constants, total number or list of things that are shared\n",
    "* Don't overwrite things you know are class attributes with `instance.attr` unless you really know what you're doing (even then, it's probably better and more readable to make it an instance attribute)\n",
    "\n",
    "For a really in depth explanation of class vs instance attributes, see either of the following links:\n",
    "\n",
    "* [python3_class_and_instance_attributes](http://www.python-course.eu/python3_class_and_instance_attributes.php)\n",
    "\n",
    "* [python-class-attributes-an-overly-thorough-guide](https://www.toptal.com/python/python-class-attributes-an-overly-thorough-guide)"
   ]
  },
  {
   "cell_type": "markdown",
   "metadata": {
    "slideshow": {
     "slide_type": "subslide"
    }
   },
   "source": [
    "#### Example: Implicit vs Explicit passing Instance"
   ]
  },
  {
   "cell_type": "code",
   "execution_count": null,
   "metadata": {
    "collapsed": false,
    "slideshow": {
     "slide_type": "fragment"
    }
   },
   "outputs": [],
   "source": [
    "class Container(object):\n",
    "    def __init__(self, N):\n",
    "        self.data = np.linspace(0, 1, N)\n",
    "\n",
    "    def print_data(self):\n",
    "        print(self.data)\n",
    "\n",
    "a = Container(11)\n",
    "\n",
    "a.print_data()          # <<< This is better\n",
    "Container.print_data(a)"
   ]
  },
  {
   "cell_type": "markdown",
   "metadata": {
    "slideshow": {
     "slide_type": "subslide"
    }
   },
   "source": [
    "## Exercise: Basics and Initialisation\n",
    "\n",
    "[Python OOP 1 Basics and Initialisation with images](exercises/04-Classes_basics.ipynb)"
   ]
  },
  {
   "cell_type": "markdown",
   "metadata": {
    "slideshow": {
     "slide_type": "slide"
    }
   },
   "source": [
    "## Classes: Encapsulation\n",
    "* Hiding data from users (and developers)\n",
    "* Use underscores '`_`' or '`__`'\n",
    "* Useful if data changing should be controlled\n",
    "* **Convention only in Python** - not enforced!"
   ]
  },
  {
   "cell_type": "markdown",
   "metadata": {
    "slideshow": {
     "slide_type": "subslide"
    }
   },
   "source": [
    "### Single vs Double Underscore\n",
    "\n",
    "* Single underscore\n",
    "    - Nobody outside this class or derived classes should access or change\n",
    "   \n",
    "* Double underscore\n",
    "    - Stronger attempt to enforce the above\n",
    "    - Also 'mangles' the attribute name with \n",
    "    \n",
    "`instance._ClassName__Attribute`"
   ]
  },
  {
   "cell_type": "markdown",
   "metadata": {
    "slideshow": {
     "slide_type": "subslide"
    }
   },
   "source": [
    "#### Example: Data hiding \"protected\", single underscore"
   ]
  },
  {
   "cell_type": "code",
   "execution_count": null,
   "metadata": {
    "collapsed": false,
    "slideshow": {
     "slide_type": "fragment"
    }
   },
   "outputs": [],
   "source": [
    "class Fruit(object):\n",
    "    def __init__(self):\n",
    "        self._hasjuice = True\n",
    "\n",
    "    def juice(self):\n",
    "        if not self.isfull(): raise ValueError('No juice!')\n",
    "        self._hasjuice = False\n",
    "    \n",
    "    def isfull(self):\n",
    "        return self._hasjuice\n",
    "\n",
    "orange = Fruit()\n",
    "print(orange.isfull())\n",
    "orange.juice()\n",
    "print(orange.isfull())"
   ]
  },
  {
   "cell_type": "code",
   "execution_count": null,
   "metadata": {
    "collapsed": false,
    "slideshow": {
     "slide_type": "fragment"
    }
   },
   "outputs": [],
   "source": [
    "# orange.                  # tab completion behaviour?\n",
    "# orange._                 # tab completion behaviour now?\n",
    "orange._hasjuice = True    # bad!\n",
    "orange.isfull()"
   ]
  },
  {
   "cell_type": "markdown",
   "metadata": {
    "slideshow": {
     "slide_type": "subslide"
    }
   },
   "source": [
    "#### Example: Data hiding \"private\", double underscore"
   ]
  },
  {
   "cell_type": "code",
   "execution_count": null,
   "metadata": {
    "collapsed": true,
    "slideshow": {
     "slide_type": "fragment"
    }
   },
   "outputs": [],
   "source": [
    "class Fruit(object):\n",
    "    def __init__(self):\n",
    "        self.__hasjuice = True\n",
    "\n",
    "    def juice(self):\n",
    "        if not self.isfull(): raise ValueError('No juice!')\n",
    "        self.__hasjuice = False\n",
    "    \n",
    "    def isfull(self):\n",
    "        return self.__hasjuice\n",
    "\n",
    "apple = Fruit()"
   ]
  },
  {
   "cell_type": "code",
   "execution_count": null,
   "metadata": {
    "collapsed": false,
    "slideshow": {
     "slide_type": "fragment"
    }
   },
   "outputs": [],
   "source": [
    "# apple._                       # tab completion behaviour?\n",
    "apple.juice()\n",
    "apple._Fruit__hasjuice = False   # Definitely bad!\n",
    "apple.isfull()"
   ]
  },
  {
   "cell_type": "markdown",
   "metadata": {
    "slideshow": {
     "slide_type": "notes"
    }
   },
   "source": [
    "**Note**: This behaviour can be over used in Python. Programmers from C++ or Java backgrounds may want to make all data hidden or `private` and access the data with 'getter' or 'setter' functions, however it's generally accepted by Python programmers that getters and setters are unnecessary. The Pythonista phrase is \"we are all consenting adults here\", meaning you should trust the programmer to interact with your classes and they should trust you to document/indicate which parts of the data not to touch unless they know what they're doing (hence the underscore convention). See the top answer on [this Stack Overflow thread](http://stackoverflow.com/questions/6930144/underscore-vs-double-underscore-with-variables-and-methods).\n",
    "\n",
    "For an entertaining view of encapsulation, see [this blog](http://radek.io/2011/07/21/private-protected-and-public-in-python/)"
   ]
  },
  {
   "cell_type": "code",
   "execution_count": null,
   "metadata": {
    "collapsed": true,
    "slideshow": {
     "slide_type": "subslide"
    }
   },
   "outputs": [],
   "source": [
    "# Live coding Bay....\n"
   ]
  },
  {
   "cell_type": "markdown",
   "metadata": {
    "slideshow": {
     "slide_type": "slide"
    }
   },
   "source": [
    "## Classes: Inheritance\n",
    "\n",
    "* Group multiple objects and methods\n",
    "* `Child`/`Derived` class inherits from `Parent`/`Base` \n",
    "* Reduce duplicate code\n",
    "* Maintanable: changes to base falls through to all\n",
    "* Beware multiple inheritance rules - we won't cover this"
   ]
  },
  {
   "cell_type": "markdown",
   "metadata": {
    "collapsed": true,
    "scrolled": true,
    "slideshow": {
     "slide_type": "subslide"
    }
   },
   "source": [
    "#### Example: Simple inheritance"
   ]
  },
  {
   "cell_type": "code",
   "execution_count": null,
   "metadata": {
    "collapsed": false,
    "slideshow": {
     "slide_type": "fragment"
    }
   },
   "outputs": [],
   "source": [
    "class Parent(object):\n",
    "    # Note the base __init__ is overridden in\n",
    "    # Child class\n",
    "    def __init__(self):     \n",
    "        pass\n",
    "    def double(self):\n",
    "        return self.data*2\n",
    "\n",
    "class Child(Parent):\n",
    "    def __init__(self, data):\n",
    "        self.data = data\n",
    "\n",
    "achild = Child(np.array([0, 1, 5, 10]))\n",
    "achild.double()"
   ]
  },
  {
   "cell_type": "markdown",
   "metadata": {
    "collapsed": true,
    "slideshow": {
     "slide_type": "subslide"
    }
   },
   "source": [
    "#### Example: Calling parent methods with `super`"
   ]
  },
  {
   "cell_type": "code",
   "execution_count": null,
   "metadata": {
    "collapsed": false,
    "slideshow": {
     "slide_type": "fragment"
    }
   },
   "outputs": [],
   "source": [
    "class Plottable(object):\n",
    "    def __init__(self, data):    \n",
    "        self.data = data\n",
    "    def plot(self, ax):\n",
    "        ax.plot(self.data)\n",
    "    \n",
    "class SinWave(Plottable):\n",
    "    def __init__(self):\n",
    "        super().__init__(\n",
    "            np.sin(np.linspace(0, np.pi*2, 101)))\n",
    "\n",
    "class CosWave(Plottable):\n",
    "    def __init__(self):\n",
    "        super().__init__(\n",
    "            np.cos(np.linspace(0, np.pi*2, 101)))\n",
    "\n",
    "fig = plt.figure()\n",
    "ax = fig.add_subplot(111)\n",
    "mysin = SinWave();   mycos = CosWave()\n",
    "mysin.plot(ax);      mycos.plot(ax)"
   ]
  },
  {
   "cell_type": "markdown",
   "metadata": {
    "slideshow": {
     "slide_type": "notes"
    }
   },
   "source": [
    "**Notes:** \n",
    "* We didn't need any arguments to `super` here as Python 3 allows this\n",
    "* `super` requires additional arguments in Python 2, e.g.\n",
    "\n",
    "      super(Class, self).method(args...)\n",
    "\n",
    "If you were wondering why we should use `super().method` instead of `BaseClass.method`, other than the convenience of renaming classes, it relates to multiple inheritance which is beyond the scope of this course. If you need to write programs with multiple inheritance (and there are strong arguments against this), you may want to look at [this blog](http://sixty-north.com/blog/pythons-super-not-as-simple-as-you-thought) for advanced use of `super`."
   ]
  },
  {
   "cell_type": "markdown",
   "metadata": {
    "slideshow": {
     "slide_type": "slide"
    }
   },
   "source": [
    "## Classes: Magic Methods\n",
    "* The workhorse of how things 'just work' in Python\n",
    "* `object` & builtin types come with many of these\n",
    "* Surrounded by double underscores\n",
    "* We've seen one already: **`__init__`!**"
   ]
  },
  {
   "cell_type": "markdown",
   "metadata": {
    "collapsed": true,
    "scrolled": true,
    "slideshow": {
     "slide_type": "subslide"
    }
   },
   "source": [
    "#### Example: The magic methods of object"
   ]
  },
  {
   "cell_type": "code",
   "execution_count": null,
   "metadata": {
    "collapsed": false,
    "slideshow": {
     "slide_type": "fragment"
    }
   },
   "outputs": [],
   "source": [
    "dir(object)"
   ]
  },
  {
   "cell_type": "markdown",
   "metadata": {
    "slideshow": {
     "slide_type": "subslide"
    }
   },
   "source": [
    "### Magic Methods: Closer look\n",
    "* `__lt__`:\n",
    "    - Called when evaluating\n",
    "            a < b\n",
    "\n",
    "* `__str__`\n",
    "    - Called by the print function\n",
    "\n",
    "* All magics can be overridden"
   ]
  },
  {
   "cell_type": "markdown",
   "metadata": {
    "slideshow": {
     "slide_type": "subslide"
    }
   },
   "source": [
    "#### Example: overriding `__str__` and `__lt__` magic methods"
   ]
  },
  {
   "cell_type": "code",
   "execution_count": null,
   "metadata": {
    "collapsed": false,
    "slideshow": {
     "slide_type": "fragment"
    }
   },
   "outputs": [],
   "source": [
    "class Wave(object):\n",
    "    def __init__(self, freq):\n",
    "        self.freq = freq\n",
    "        self._data = np.sin(np.linspace(0, np.pi, 101)\n",
    "                            * np.pi*2 * freq)\n",
    "    \n",
    "    def __str__(self):\n",
    "        \"\"\"RETURNS the string for printing\"\"\"\n",
    "        return \"Wave frequency: {}\".format(self.freq)\n",
    "    \n",
    "    def __lt__(self, wave2):\n",
    "        return self.freq < wave2.freq\n",
    "\n",
    "wav_low = Wave(10)\n",
    "wav_high = Wave(50)  # A high frequency wave\n",
    "\n",
    "print(wav_high)\n",
    "wav_low < wav_high"
   ]
  },
  {
   "cell_type": "code",
   "execution_count": null,
   "metadata": {
    "collapsed": false,
    "slideshow": {
     "slide_type": "subslide"
    }
   },
   "outputs": [],
   "source": [
    "# Live coding Bay....\n"
   ]
  },
  {
   "cell_type": "markdown",
   "metadata": {
    "slideshow": {
     "slide_type": "notes"
    }
   },
   "source": [
    "**Note**: Magic methods are very briefly introduced here. For an extensive overview of magic methods for Python classes, view [Rafe Kettlers blog](http://www.rafekettler.com/magicmethods.html)"
   ]
  },
  {
   "cell_type": "markdown",
   "metadata": {
    "slideshow": {
     "slide_type": "subslide"
    }
   },
   "source": [
    "## Exercise: Inheritance and Magic Methods \n",
    "\n",
    "[Python OOP2 Inheritance and Magic Methods using shapes](exercises/05-Classes_pt2.ipynb)"
   ]
  },
  {
   "cell_type": "markdown",
   "metadata": {
    "slideshow": {
     "slide_type": "slide"
    }
   },
   "source": [
    "## Python 2 vs 3\n",
    "\n",
    "* Dont need to inherit `object` in Python 3\n",
    "* New classes inherit from `object`\n",
    "* Inheritance behaviour is different\n",
    "* Old classes removed in Python 3"
   ]
  },
  {
   "cell_type": "markdown",
   "metadata": {
    "slideshow": {
     "slide_type": "subslide"
    }
   },
   "source": [
    "#### Example: New class default Python 3"
   ]
  },
  {
   "cell_type": "code",
   "execution_count": null,
   "metadata": {
    "collapsed": false,
    "slideshow": {
     "slide_type": "fragment"
    }
   },
   "outputs": [],
   "source": [
    "class OldSyntax:\n",
    "    pass\n",
    "\n",
    "class NewSyntax(object):  # This means 'inherit from object'\n",
    "    pass\n",
    "    \n",
    "print(type(OldSyntax))    # Would give <type 'classobj'>\n",
    "                          # in Python 2\n",
    "print(type(NewSyntax))"
   ]
  },
  {
   "cell_type": "markdown",
   "metadata": {
    "slideshow": {
     "slide_type": "fragment"
    }
   },
   "source": [
    "* Backwards compatibility: inherit `object` in Py3"
   ]
  },
  {
   "cell_type": "markdown",
   "metadata": {
    "slideshow": {
     "slide_type": "notes"
    }
   },
   "source": [
    "Notes: There are other differences affecting classes which we have not included, such as metaclasses and iterator behaviour, but here is a link to a more complete comparison:\n",
    "\n",
    "* http://python3porting.com/differences.html"
   ]
  },
  {
   "cell_type": "markdown",
   "metadata": {
    "slideshow": {
     "slide_type": "slide"
    }
   },
   "source": [
    "## Extra Material\n",
    "\n",
    "* Harder exercise (if time)\n",
    "\n",
    "* Should test your knowledge from this course\n",
    "\n",
    "> [Exercise: Predator Prey ](exercises/06-Predator_prey.ipynb)\n"
   ]
  },
  {
   "cell_type": "markdown",
   "metadata": {
    "slideshow": {
     "slide_type": "subslide"
    }
   },
   "source": [
    "* Other things worth looking at (an incredibly biased opinion):\n",
    "    - [Building Pythonic Packages with setuptools](https://pythonhosted.org/an_example_pypi_project/setuptools.html)\n",
    "    - [Unit testing with py.test](https://pytest.org/latest/contents.html)\n",
    "    - [Conda Environments](http://conda.pydata.org/docs/using/envs.html)\n",
    "    - Play with a visualisation/GUI package!\n"
   ]
  },
  {
   "cell_type": "markdown",
   "metadata": {
    "slideshow": {
     "slide_type": "slide"
    }
   },
   "source": [
    "## Summary\n",
    "* Refreshed your basic Python skills\n",
    "* Python builtins not included in standard basics course\n",
    "    - tuples, dictionaries, generators\n",
    "* Software data structuring"
   ]
  },
  {
   "cell_type": "markdown",
   "metadata": {
    "slideshow": {
     "slide_type": "subslide"
    }
   },
   "source": [
    "## Summary (ctd)\n",
    "* Covered the language and concepts for Object Orientation (Transferable!)\n",
    "* OOP Implementation in Python \n",
    "* `Read` the packages you use daily\n",
    "* Create maintainable packages for yourself and scientific community"
   ]
  },
  {
   "cell_type": "markdown",
   "metadata": {
    "collapsed": true,
    "slideshow": {
     "slide_type": "subslide"
    }
   },
   "source": [
    "# Thank You\n",
    "\n",
    "P.R.Chambers@soton.ac.uk"
   ]
  }
 ],
 "metadata": {
  "celltoolbar": "Slideshow",
  "kernelspec": {
   "display_name": "Python 3",
   "language": "python",
   "name": "python3"
  },
  "language_info": {
   "codemirror_mode": {
    "name": "ipython",
    "version": 3
   },
   "file_extension": ".py",
   "mimetype": "text/x-python",
   "name": "python",
   "nbconvert_exporter": "python",
   "pygments_lexer": "ipython3",
   "version": "3.5.1"
  }
 },
 "nbformat": 4,
 "nbformat_minor": 0
}
