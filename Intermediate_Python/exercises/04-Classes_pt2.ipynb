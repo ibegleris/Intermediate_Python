{
 "cells": [
  {
   "cell_type": "markdown",
   "metadata": {},
   "source": [
    "# Python OOP 2: Inheritance and Iterators"
   ]
  },
  {
   "cell_type": "markdown",
   "metadata": {},
   "source": []
  },
  {
   "cell_type": "code",
   "execution_count": null,
   "metadata": {
    "collapsed": true
   },
   "outputs": [],
   "source": [
    "import numpy as np\n",
    "import matplotlib.pyplot as plt\n",
    "from abc import abstractmethod, ABCMeta"
   ]
  },
  {
   "cell_type": "code",
   "execution_count": null,
   "metadata": {
    "collapsed": false
   },
   "outputs": [],
   "source": [
    "# NOT SURE WHERE IM GOING WITH THIS YET!\n",
    "\n",
    "class AbstractShape(metaclass=ABCMeta):\n",
    "    def __init__(self, vertices):\n",
    "        self.Vertices = vertices\n",
    "\n",
    "    @abstractmethod\n",
    "    def display(self):\n",
    "        pass\n",
    "\n",
    "\n",
    "class PointCloud2D(AbstractShape):\n",
    "    def __init__(self, vertices=None):\n",
    "        super(Shape2D, self).__init__(self, vertices)\n",
    "    \n",
    "    def display():\n",
    "        pass\n",
    "\n",
    "class Shape2D(AbstractShape):\n",
    "    def __init__(self, vertices=None):\n",
    "        super(Shape2D, self).__init__(vertices)\n",
    "    def display(self):\n",
    "        pass\n",
    "    \n",
    "    \n",
    "square = Shape2D()\n",
    "print(square)"
   ]
  },
  {
   "cell_type": "code",
   "execution_count": null,
   "metadata": {
    "collapsed": false
   },
   "outputs": [],
   "source": [
    "import matplotlib.pyplot as plt\n",
    "circle1=plt.Circle((0,0),.2,color='r')\n",
    "circle2=plt.Circle((.5,.5),.2,color='b')\n",
    "circle3=plt.Circle((1,1),.2,color='g',clip_on=False)\n",
    "fig = plt.figure()\n",
    "ax = fig.add_subplot(111)\n",
    "ax.add_artist(circle1)\n",
    "fig.show()"
   ]
  },
  {
   "cell_type": "code",
   "execution_count": null,
   "metadata": {
    "collapsed": false
   },
   "outputs": [],
   "source": [
    "from IPython.core.display import HTML\n",
    "def css_styling():\n",
    "    sheet = '../css/custom.css'\n",
    "    styles = open(sheet, \"r\").read() \n",
    "    return HTML(styles)\n",
    "css_styling()"
   ]
  }
 ],
 "metadata": {
  "kernelspec": {
   "display_name": "Python 3",
   "language": "python",
   "name": "python3"
  },
  "language_info": {
   "codemirror_mode": {
    "name": "ipython",
    "version": 3
   },
   "file_extension": ".py",
   "mimetype": "text/x-python",
   "name": "python",
   "nbconvert_exporter": "python",
   "pygments_lexer": "ipython3",
   "version": "3.5.1"
  }
 },
 "nbformat": 4,
 "nbformat_minor": 0
}
