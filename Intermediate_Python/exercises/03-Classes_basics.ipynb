{
 "cells": [
  {
   "cell_type": "markdown",
   "metadata": {},
   "source": [
<<<<<<< HEAD
    "# Python OOP 1: Basics and Initialisation"
   ]
  },
  {
   "cell_type": "markdown",
   "metadata": {},
   "source": []
  },
  {
   "cell_type": "code",
   "execution_count": null,
   "metadata": {
    "collapsed": true
   },
   "outputs": [],
   "source": [
    "import numpy as np"
   ]
  },
  {
   "cell_type": "code",
   "execution_count": null,
   "metadata": {
    "collapsed": false
   },
   "outputs": [],
   "source": []
  },
  {
=======
    "# Python OOP 1: Basics and initialisation"
   ]
  },
  {
>>>>>>> 748e4b4fb144820b53f509de3b549c32d40953a3
   "cell_type": "code",
   "execution_count": null,
   "metadata": {
    "collapsed": false
   },
   "outputs": [],
   "source": [
    "from IPython.core.display import HTML\n",
    "def css_styling():\n",
    "    sheet = '../css/custom.css'\n",
    "    styles = open(sheet, \"r\").read() \n",
    "    return HTML(styles)\n",
    "css_styling()"
   ]
  },
  {
   "cell_type": "code",
   "execution_count": 3,
   "metadata": {
    "collapsed": false
   },
   "outputs": [],
   "source": [
    "def tai(x,y,z):\n",
    "\ta = (x**2+y**2+z**2<0.2)#+((y**2+z**2<0.08)*(x<0.4)*(x>0))+(x**2+4*y**2<(1-np.abs z)*0.12)+((np.abs z<0.95)*(np.abs z>0.9)*(np.abs x+np.abs y*0.3<1))+((np.abs z<1)*(np.abs z>0.89))*((np.abs x<0.7)*(np.abs y>0.9)+(np.abs y<0.035)+(x>y*0.7-0.05)*(x<y*0.7+0.05)+(-x>y*0.7-0.05)*(-x<y*0.7+0.05)+((np.abs x+np.abs y*0.3<1.05)*(np.abs x+np.abs y*0.3>0.95))) \n",
    "\treturn a"
   ]
  },
  {
   "cell_type": "code",
   "execution_count": 4,
   "metadata": {
    "collapsed": false
   },
   "outputs": [
    {
     "data": {
      "text/plain": [
       "False"
      ]
     },
     "execution_count": 4,
     "metadata": {},
     "output_type": "execute_result"
    }
   ],
   "source": [
    "tai(1,1,1)"
   ]
  },
  {
   "cell_type": "code",
   "execution_count": null,
   "metadata": {
    "collapsed": true
   },
   "outputs": [],
   "source": []
  }
 ],
 "metadata": {
  "kernelspec": {
   "display_name": "Python 3",
   "language": "python",
   "name": "python3"
  },
  "language_info": {
   "codemirror_mode": {
    "name": "ipython",
    "version": 3
   },
   "file_extension": ".py",
   "mimetype": "text/x-python",
   "name": "python",
   "nbconvert_exporter": "python",
   "pygments_lexer": "ipython3",
   "version": "3.5.1"
  }
 },
 "nbformat": 4,
 "nbformat_minor": 0
}
