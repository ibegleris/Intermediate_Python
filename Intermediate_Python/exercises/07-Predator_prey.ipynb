{
 "cells": [
  {
   "cell_type": "markdown",
   "metadata": {},
   "source": [
    "# Predator Prey Agent Based Modelling in Python"
   ]
  },
  {
   "cell_type": "markdown",
   "metadata": {},
   "source": [
    "Use what you have learned through this intermediate Python course to produce a *'predator-prey'* agent based modelling simulation. Your task is to program the classes which describe the eating and breeding behaviour of a predator and its prey - we'll use rabbits and foxes in this example - and a domain in which they operate.\n",
    "\n",
    "|Class: Predator  |  Class: Prey   |\n",
    "|-----------------------------|----------------------------|\n",
    "|![The_Predator](data/fox.png)|![The_prey](data/rabbit.png)|\n",
    "\n",
    "**Note: do not get confused between the current task and the \"predator prey problem\", which models the interactions between predator and prey through differential equations**\n",
    "\n",
    "## Implementation\n",
    "\n",
    "The algorithm behind this example can be imagined as a 2D grid of points on which the rabbits and foxes can move in an interative procedure. The rabbits move first, towards other rabbits for breeding; after this, foxes search for nearby rabbits to eat. All agents move at a rate of 1 i.e. of the 8 directions N, NE, E, SE, S, SW, W, NW.\n",
    "\n",
    "Tips: First define some constants as:\n",
    "\n",
    ">* $N_r$ - number of rabbits\n",
    ">* $N_f$ - number of foxes\n",
    ">* $P_x$ - number of x points on the grid\n",
    ">* $P_y$ - number of y points on the grid \n",
    ">* $age_f$ - maximum \"age\" at which foxes die\n",
    ">* $age_r$ - maximum \"age\" at which foxes die\n",
    ">* $rmax$ - radius at which agents will search: if no targets within this influence, move in a random direction\n",
    "\n",
    "Some suggetions for the implemention may include:\n",
    "\n",
    "* a base **`Agent`** class with the following attributes and methods\n",
    "    - __init__(age, loc) constructor: adds inputs as attributes (could use **kwargs?)\n",
    "    - age, attribute - input integer definition age\n",
    "    - increment_age, method - increments age by 1, and \n",
    "    - *loc*, attribute - index (ix, iy) at which the \n",
    "    - **move**, method - randomly move in any direction\n",
    "\n",
    "* **`Predator`** class inhertied from `Agent` class with the following attributes and methods:\n",
    "    - eat(rad), method: search within a \n",
    "    - marker, attribute: string containing 'fox.png' i.e the filename of the plot marker\n",
    "\n",
    "\n",
    "* **`Prey`** class inherited from `Agent` with the following attributes and methods:\n",
    "    - breed, method\n",
    "    - marker, attribute: string containing 'rabbit.png' i.e the filename of the plot marker\n",
    "\n",
    "\n",
    "* a **`Field`** class with the follow attributes and methods:\n",
    "    - **__init__**(Px, Py, predators, preys), constructor: produce the 2D grid and store all attributes in self \n",
    "    - *grid*, attribute: numpy array formed by np.meshgrid of points between 0->Px and 0->Py\n",
    "    - *predators*, attribute: input list of predator class instances\n",
    "    - *preys*, attribute: input list of prey class instances\n",
    "    - **predators**, attribute: input list of predator class instances\n",
    "    - **distribute()**, method: randomly distribute the predators and preys \n",
    "    - **plot**\n",
    "\n"
   ]
  },
  {
   "cell_type": "code",
   "execution_count": 1,
   "metadata": {
    "collapsed": true
   },
   "outputs": [],
   "source": [
    "import numpy as np\n",
    "import matplotlib.pylab as plt"
   ]
  },
  {
   "cell_type": "code",
   "execution_count": 2,
   "metadata": {
    "collapsed": true
   },
   "outputs": [],
   "source": [
    "# Constants:\n",
    "Nr = 20\n",
    "Nf = 4"
   ]
  },
  {
   "cell_type": "code",
   "execution_count": null,
   "metadata": {
    "collapsed": true
   },
   "outputs": [],
   "source": [
    "# Classes:\n"
   ]
  },
  {
   "cell_type": "markdown",
   "metadata": {},
   "source": [
    "## Plotting"
   ]
  },
  {
   "cell_type": "code",
   "execution_count": null,
   "metadata": {
    "collapsed": true
   },
   "outputs": [],
   "source": []
  },
  {
   "cell_type": "markdown",
   "metadata": {},
   "source": [
    "**Extension: Animate your simulation using the [JSAnimation package](https://github.com/jakevdp/JSAnimation)**"
   ]
  },
  {
   "cell_type": "markdown",
   "metadata": {},
   "source": [
    "**Extension 2: Create a generator of predator and prey instances using generator comprehension**"
   ]
  },
  {
   "cell_type": "markdown",
   "metadata": {},
   "source": []
  }
 ],
 "metadata": {
  "kernelspec": {
   "display_name": "Python 3",
   "language": "python",
   "name": "python3"
  },
  "language_info": {
   "codemirror_mode": {
    "name": "ipython",
    "version": 3
   },
   "file_extension": ".py",
   "mimetype": "text/x-python",
   "name": "python",
   "nbconvert_exporter": "python",
   "pygments_lexer": "ipython3",
   "version": "3.5.1"
  }
 },
 "nbformat": 4,
 "nbformat_minor": 0
}
